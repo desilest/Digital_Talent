{
 "cells": [
  {
   "cell_type": "markdown",
   "metadata": {},
   "source": [
    "# Tugas 1\n",
    "Membuat Kalkulator Body Mass Index (BMI)\n",
    "\n",
    "- Nama : Desi Lestari\n",
    "- Kelas : Big Data C"
   ]
  },
  {
   "cell_type": "code",
   "execution_count": 3,
   "metadata": {},
   "outputs": [
    {
     "name": "stdout",
     "output_type": "stream",
     "text": [
      "Your weight = 43 kg\n",
      "Your height = 1.55 m\n",
      "Your BMI = 17.898022892819977\n"
     ]
    }
   ],
   "source": [
    "weight = 43 #dalam kg\n",
    "height = 1.55 #dalam m\n",
    "BMI = weight/height**2\n",
    "\n",
    "print(\"Your weight =\", (weight), \"kg\")\n",
    "print(\"Your height =\", (height),\"m\")\n",
    "print(\"Your BMI =\", (BMI))\n",
    "\n"
   ]
  },
  {
   "cell_type": "code",
   "execution_count": 2,
   "metadata": {},
   "outputs": [
    {
     "ename": "NameError",
     "evalue": "name 'BMI' is not defined",
     "output_type": "error",
     "traceback": [
      "\u001b[1;31m---------------------------------------------------------------------------\u001b[0m",
      "\u001b[1;31mNameError\u001b[0m                                 Traceback (most recent call last)",
      "\u001b[1;32m<ipython-input-2-d9cdca1f2cf0>\u001b[0m in \u001b[0;36m<module>\u001b[1;34m()\u001b[0m\n\u001b[1;32m----> 1\u001b[1;33m \u001b[1;32mif\u001b[0m \u001b[0mBMI\u001b[0m\u001b[1;33m<\u001b[0m\u001b[1;36m15\u001b[0m\u001b[1;33m:\u001b[0m\u001b[1;33m\u001b[0m\u001b[0m\n\u001b[0m\u001b[0;32m      2\u001b[0m     \u001b[0mprint\u001b[0m\u001b[1;33m(\u001b[0m\u001b[1;34m\"So Your BMI Category is Very Severely Underweight\"\u001b[0m\u001b[1;33m)\u001b[0m\u001b[1;33m\u001b[0m\u001b[0m\n\u001b[0;32m      3\u001b[0m \u001b[1;32melif\u001b[0m \u001b[1;36m15\u001b[0m\u001b[1;33m<=\u001b[0m\u001b[0mBMI\u001b[0m\u001b[1;33m<\u001b[0m\u001b[1;36m16\u001b[0m\u001b[1;33m:\u001b[0m\u001b[1;33m\u001b[0m\u001b[0m\n\u001b[0;32m      4\u001b[0m     \u001b[0mprint\u001b[0m\u001b[1;33m(\u001b[0m\u001b[1;34m\"So Your BMI Category is Severely Underweight\"\u001b[0m\u001b[1;33m)\u001b[0m\u001b[1;33m\u001b[0m\u001b[0m\n\u001b[0;32m      5\u001b[0m \u001b[1;32melif\u001b[0m \u001b[1;36m16\u001b[0m\u001b[1;33m<=\u001b[0m\u001b[0mBMI\u001b[0m\u001b[1;33m<\u001b[0m\u001b[1;36m18.5\u001b[0m\u001b[1;33m:\u001b[0m\u001b[1;33m\u001b[0m\u001b[0m\n",
      "\u001b[1;31mNameError\u001b[0m: name 'BMI' is not defined"
     ]
    }
   ],
   "source": [
    "if BMI<15:   \n",
    "    print(\"So Your BMI Category is Very Severely Underweight\")\n",
    "elif 15<=BMI<16:\n",
    "    print(\"So Your BMI Category is Severely Underweight\")\n",
    "elif 16<=BMI<18.5:\n",
    "    print(\"So Your BMI Category is Underweight\")\n",
    "elif 18.5<=BMI<25:\n",
    "    print(\"So Your BMI Category is Normal (Healthy Weight)\")\n",
    "elif 25<=BMI<30:\n",
    "    print(\"So Your BMI Category is Overweight\") \n",
    "elif 30<=BMI<35:\n",
    "    print(\"So Your BMI Category is Moderately Overweight\")\n",
    "elif 35<=BMI<40:\n",
    "    print(\"So Your BMI Category is Severely Overweight\")\n",
    "elif BMI>=40:\n",
    "    print(\"So Your BMI Category is Very Severely Overweight\")\n",
    "else:\n",
    "    print(\"Please input you BMI\")\n",
    "\n",
    "print(\"Thank You\")"
   ]
  },
  {
   "cell_type": "code",
   "execution_count": null,
   "metadata": {},
   "outputs": [],
   "source": []
  },
  {
   "cell_type": "code",
   "execution_count": null,
   "metadata": {},
   "outputs": [],
   "source": []
  }
 ],
 "metadata": {
  "kernelspec": {
   "display_name": "Python 3",
   "language": "python",
   "name": "python3"
  },
  "language_info": {
   "codemirror_mode": {
    "name": "ipython",
    "version": 3
   },
   "file_extension": ".py",
   "mimetype": "text/x-python",
   "name": "python",
   "nbconvert_exporter": "python",
   "pygments_lexer": "ipython3",
   "version": "3.7.0"
  }
 },
 "nbformat": 4,
 "nbformat_minor": 2
}
