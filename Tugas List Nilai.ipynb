{
 "cells": [
  {
   "cell_type": "markdown",
   "metadata": {},
   "source": [
    "# Soal "
   ]
  },
  {
   "cell_type": "code",
   "execution_count": 1,
   "metadata": {},
   "outputs": [
    {
     "name": "stdout",
     "output_type": "stream",
     "text": [
      "[39, 77, 4, 98, 50, 75, 76, 43, 40, 74, 60, 67, 83, 70, 77, 62, 86, 81, 53, 28, 9, 30, 80, 7, 21, 98, 30, 90, 18, 16, 78, 94, 21, 30, 73, 87, 52, 3, 48, 42, 79, 16, 72, 81, 82, 10, 7, 78, 73, 72, 68, 64, 11, 4, 90, 5, 62, 40, 73, 82, 61, 78, 42, 30, 55, 22, 53, 4, 98, 1, 25, 97, 9, 21, 94, 61, 3, 46, 87, 69, 85, 90, 84, 22, 17, 98, 40, 16, 55, 84, 79, 82, 51, 92, 55, 86, 13, 74, 81, 33, 55, 31, 93, 43, 94, 79, 16, 29, 87, 63, 75, 81, 23, 29, 95, 30, 12, 20, 53, 39, 80, 67, 34, 79, 25, 44, 24, 20, 15, 87, 67, 17, 82, 81, 20, 16, 67, 13, 70, 62, 7, 97, 72, 3, 13, 54, 83, 91, 29, 59, 19, 66, 29, 78, 86, 52, 79, 57, 29, 3, 56, 53, 10, 89, 44, 42, 73, 56, 94, 17, 37, 4, 88, 99, 47, 60, 9, 51, 44, 37, 13, 41, 97, 85, 99, 77, 77, 74, 77, 30, 35, 53, 89, 16, 24, 74, 5, 42, 83, 2, 12, 69, 36, 64, 41, 1, 95, 43, 2, 9, 7, 16, 68, 25, 72, 76, 26, 74, 76, 16, 3, 95, 72, 20, 84, 51, 54, 17, 85, 27, 38, 19, 9, 9, 78, 36, 61, 98, 62, 26, 67, 33, 54, 98, 19, 14, 20, 7, 98, 39]\n"
     ]
    }
   ],
   "source": [
    "import random\n",
    "\n",
    "# GENERATE RANDOM\n",
    "nilaiTugas = []\n",
    "for i in range(250):\n",
    "    nilaiTugas.append(random.randrange(1,100,1))\n",
    "\n",
    "print(nilaiTugas)"
   ]
  },
  {
   "cell_type": "markdown",
   "metadata": {},
   "source": [
    "# 1. Nilai Ganjil"
   ]
  },
  {
   "cell_type": "code",
   "execution_count": 7,
   "metadata": {},
   "outputs": [
    {
     "name": "stdout",
     "output_type": "stream",
     "text": [
      "Nilai ganjil :\n",
      "[1, 3, 5, 7, 9, 11, 13, 15, 17, 19, 21, 23, 25, 27, 29, 31, 33, 35, 37, 39, 41, 43, 47, 51, 53, 55, 57, 59, 61, 63, 67, 69, 73, 75, 77, 79, 81, 83, 85, 87, 89, 91, 93, 95, 97, 99]\n"
     ]
    }
   ],
   "source": [
    "ganjil = []\n",
    "for n in nilaiTugas:\n",
    "    if n%2 == 1 and n not in ganjil:\n",
    "        ganjil.append(n)\n",
    "print(\"Nilai ganjil :\")\n",
    "print(sorted(ganjil))"
   ]
  },
  {
   "cell_type": "markdown",
   "metadata": {},
   "source": [
    "# 2. Nilai >70"
   ]
  },
  {
   "cell_type": "code",
   "execution_count": 8,
   "metadata": {},
   "outputs": [
    {
     "name": "stdout",
     "output_type": "stream",
     "text": [
      "Nilai yang lebih dari 70 adalah :\n",
      "[72, 73, 74, 75, 76, 77, 78, 79, 80, 81, 82, 83, 84, 85, 86, 87, 88, 89, 90, 91, 92, 93, 94, 95, 97, 98, 99]\n"
     ]
    }
   ],
   "source": [
    "morethan = []\n",
    "\n",
    "for n in nilaiTugas:\n",
    "    if n > 70 and n not in morethan:\n",
    "        morethan.append(n)\n",
    "print(\"Nilai yang lebih dari 70 adalah :\")\n",
    "print(sorted(morethan))"
   ]
  },
  {
   "cell_type": "markdown",
   "metadata": {},
   "source": [
    "# 3. Nilai Standar Deviasi"
   ]
  },
  {
   "cell_type": "code",
   "execution_count": 9,
   "metadata": {},
   "outputs": [
    {
     "name": "stdout",
     "output_type": "stream",
     "text": [
      "Standar Deviasi = 29.92317042885089\n"
     ]
    }
   ],
   "source": [
    "# mencari rata - rata nilai\n",
    "total = 0\n",
    "for n in nilaiTugas:\n",
    "    total = total + n \n",
    "rata = total / len(nilaiTugas)\n",
    "\n",
    "#mencari standar deviasi\n",
    "jumlah = 0\n",
    "for n in nilaiTugas:\n",
    "    a = (n - rata)**2\n",
    "    jumlah = jumlah + a\n",
    "stdku = ( jumlah/(len(nilaiTugas)-1))**0.5\n",
    "\n",
    "print(\"Standar Deviasi =\", stdku)"
   ]
  },
  {
   "cell_type": "markdown",
   "metadata": {},
   "source": [
    "# 4. Nilai Maksimum"
   ]
  },
  {
   "cell_type": "code",
   "execution_count": 10,
   "metadata": {},
   "outputs": [
    {
     "name": "stdout",
     "output_type": "stream",
     "text": [
      "Nilai maksimum dari Nilai Tugas adalah 99\n"
     ]
    }
   ],
   "source": [
    "maksimal = nilaiTugas[0]\n",
    "m = len(nilaiTugas)\n",
    "for i in range(1,m) :\n",
    "    if nilaiTugas[i] > maksimal:\n",
    "        maksimal = nilaiTugas[i]\n",
    "print(\"Nilai maksimum dari Nilai Tugas adalah\", maksimal)\n"
   ]
  },
  {
   "cell_type": "markdown",
   "metadata": {},
   "source": [
    "# 5. Nilai Minimum"
   ]
  },
  {
   "cell_type": "code",
   "execution_count": 11,
   "metadata": {},
   "outputs": [
    {
     "name": "stdout",
     "output_type": "stream",
     "text": [
      "Nilai minimum dari Nilai Tugas adalah 1\n"
     ]
    }
   ],
   "source": [
    "minimal = nilaiTugas[0]\n",
    "m = len(nilaiTugas)\n",
    "for i in range(1,m) :\n",
    "    if nilaiTugas[i] < minimal:\n",
    "        minimal = nilaiTugas[i]\n",
    "print(\"Nilai minimum dari Nilai Tugas adalah\", minimal)"
   ]
  },
  {
   "cell_type": "markdown",
   "metadata": {},
   "source": [
    "# 6. Nilai Modus"
   ]
  },
  {
   "cell_type": "code",
   "execution_count": 12,
   "metadata": {},
   "outputs": [
    {
     "name": "stdout",
     "output_type": "stream",
     "text": [
      "Nilai modusnya adalah 16 dengan frekuensi sebanyak 8\n"
     ]
    }
   ],
   "source": [
    "# membuat list nilai single\n",
    "nilai_beda =[]\n",
    "for i in nilaiTugas:\n",
    "    if i not in nilai_beda:\n",
    "        nilai_beda.append(i)\n",
    "# print(nilai_beda)\n",
    "\n",
    "#  mengurutkan nilai single\n",
    "N = len(nilai_beda)\n",
    "for n in range(N-1,0,-1):\n",
    "    for i in range(n):\n",
    "        if nilai_beda[i] > nilai_beda[i+1]:\n",
    "            temp = nilai_beda[i]\n",
    "            nilai_beda[i] = nilai_beda[i+1]\n",
    "            nilai_beda[i+1] = temp\n",
    "# print(nilai_beda)\n",
    "\n",
    "# menghitung frekuensi masing - masing nilai\n",
    "frek = []\n",
    "frek_modus = 0\n",
    "M = len(nilaiTugas)\n",
    "for i in range(0,N):\n",
    "    frek.append(0)\n",
    "    for j in range(0,M):\n",
    "        if nilai_beda[i]==nilaiTugas[j]:\n",
    "            frek[i]= frek[i] + 1\n",
    "    if frek[i] > frek_modus:\n",
    "        frek_modus = frek[i]\n",
    "        modusk = nilai_beda[i]\n",
    "#    print(nilai_beda[i],frek[i])\n",
    "print(\"Nilai modusnya adalah\", modusk, \"dengan frekuensi sebanyak\", frek_modus)\n"
   ]
  },
  {
   "cell_type": "code",
   "execution_count": null,
   "metadata": {},
   "outputs": [],
   "source": []
  }
 ],
 "metadata": {
  "kernelspec": {
   "display_name": "Python 3",
   "language": "python",
   "name": "python3"
  },
  "language_info": {
   "codemirror_mode": {
    "name": "ipython",
    "version": 3
   },
   "file_extension": ".py",
   "mimetype": "text/x-python",
   "name": "python",
   "nbconvert_exporter": "python",
   "pygments_lexer": "ipython3",
   "version": "3.7.0"
  }
 },
 "nbformat": 4,
 "nbformat_minor": 2
}
